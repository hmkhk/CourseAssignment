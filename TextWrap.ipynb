{
 "cells": [
  {
   "cell_type": "code",
   "execution_count": 1,
   "metadata": {},
   "outputs": [
    {
     "name": "stdout",
     "output_type": "stream",
     "text": [
      "Hello from Jupyter Notebook :)\n"
     ]
    }
   ],
   "source": [
    "#First program on Jupyter Notebook\n",
    "print(\"Hello from Jupyter Notebook :)\")"
   ]
  },
  {
   "cell_type": "code",
   "execution_count": 92,
   "metadata": {},
   "outputs": [
    {
     "name": "stdout",
     "output_type": "stream",
     "text": [
      "WE, THE PEOPLE OF INDIA,\n",
      "      having solemnly resolved to constitute India into a  SOVEREIGN, ! \n",
      "              SOCIALIST, SECULAR,DEMOCRATIC  REPUBLIC \n",
      "                and  to secure to all  its citizens\n"
     ]
    }
   ],
   "source": [
    "#justification of given text\n",
    "import textwrap\n",
    "\n",
    "value = \"\"\"WE, THE PEOPLE OF INDIA, having solemnly resolved to constitute India into a \n",
    "SOVEREIGN, SOCIALIST, SECULAR, DEMOCRATIC REPUBLIC and to secure to all \n",
    "its citizens\"\"\"  \n",
    "\n",
    "# Wrap this text. \n",
    "wrapper = textwrap.TextWrapper(width=30) \n",
    "  \n",
    "out_lines = wrapper.wrap(text=value) \n",
    "#print(out_lines)\n",
    "count = 1\n",
    "temp_line = \"\"\n",
    "tab=\"      \"  \n",
    "# Print each line in a different format \n",
    "for cur_line in out_lines: \n",
    "    if (count == 1):\n",
    "        print(cur_line) \n",
    "        \n",
    "    elif (count==2):\n",
    "        temp_line = temp_line + tab + cur_line + \" \"\n",
    "        \n",
    "    elif (count == 3):\n",
    "        print(temp_line + cur_line + \" \",end=\"\") \n",
    "        \n",
    "    elif (count == 4):\n",
    "        temp_line = cur_line.replace(\"SOVEREIGN,\",\" SOVEREIGN, ! \\n\", 1)\n",
    "        temp_line = temp_line.replace(\"SOCIALIST\", tab + tab + \" SOCIALIST\", 1)\n",
    "        \n",
    "    elif (count == 5):\n",
    "        temp_line2 = cur_line.replace(\"REPUBLIC \",\" REPUBLIC \\n\", 1)\n",
    "        temp_line2 = temp_line2.replace(\"and\", tab + tab + \"    and \", 1)\n",
    "        print(temp_line + temp_line2  + \" \", end = \"\")\n",
    "\n",
    "    else:\n",
    "        print (cur_line)\n",
    "    count = count + 1"
   ]
  },
  {
   "cell_type": "code",
   "execution_count": null,
   "metadata": {},
   "outputs": [],
   "source": []
  }
 ],
 "metadata": {
  "kernelspec": {
   "display_name": "Python 3",
   "language": "python",
   "name": "python3"
  },
  "language_info": {
   "codemirror_mode": {
    "name": "ipython",
    "version": 3
   },
   "file_extension": ".py",
   "mimetype": "text/x-python",
   "name": "python",
   "nbconvert_exporter": "python",
   "pygments_lexer": "ipython3",
   "version": "3.7.6"
  }
 },
 "nbformat": 4,
 "nbformat_minor": 4
}
