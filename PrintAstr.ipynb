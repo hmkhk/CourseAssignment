{
 "cells": [
  {
   "cell_type": "code",
   "execution_count": 4,
   "metadata": {},
   "outputs": [
    {
     "name": "stdout",
     "output_type": "stream",
     "text": [
      "Enter any word :#Covid19\n",
      "91divoC#\n"
     ]
    }
   ],
   "source": [
    "#Read a word and print it in reverse\n",
    "any_word= input(\"Enter any word :\")\n",
    "\n",
    "#string displayed in reverse \n",
    "print(any_word[::-1])"
   ]
  },
  {
   "cell_type": "code",
   "execution_count": 60,
   "metadata": {},
   "outputs": [
    {
     "name": "stdout",
     "output_type": "stream",
     "text": [
      "* \n",
      "* * \n",
      "* * * \n",
      "* * * * \n",
      "* * * * * \n",
      "* * * * * \n",
      "* * * * \n",
      "* * * \n",
      "* * \n",
      "* \n"
     ]
    }
   ],
   "source": [
    "#Print the asterisk in a pattern\n",
    "max_count=5\n",
    "for i in range(1, max_count+1):\n",
    "    count_list = range(1,i)\n",
    "    #print increasing order *\n",
    "    for j in range(len(count_list)+1):\n",
    "        print(\"*\", end =\" \")\n",
    "    print()    \n",
    "for i in range(max_count+1, 1, -1):\n",
    "    count_list = range(i, 1, -1)\n",
    "    #print decreasing order *\n",
    "    for j in range(len(count_list), 0, -1):\n",
    "         print(\"*\", end =\" \")\n",
    "    print()   "
   ]
  },
  {
   "cell_type": "code",
   "execution_count": null,
   "metadata": {},
   "outputs": [],
   "source": []
  }
 ],
 "metadata": {
  "kernelspec": {
   "display_name": "Python 3",
   "language": "python",
   "name": "python3"
  },
  "language_info": {
   "codemirror_mode": {
    "name": "ipython",
    "version": 3
   },
   "file_extension": ".py",
   "mimetype": "text/x-python",
   "name": "python",
   "nbconvert_exporter": "python",
   "pygments_lexer": "ipython3",
   "version": "3.7.6"
  }
 },
 "nbformat": 4,
 "nbformat_minor": 4
}
