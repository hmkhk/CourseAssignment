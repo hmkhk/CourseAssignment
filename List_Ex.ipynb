{
 "cells": [
  {
   "cell_type": "code",
   "execution_count": 14,
   "metadata": {
    "scrolled": true
   },
   "outputs": [
    {
     "name": "stdout",
     "output_type": "stream",
     "text": [
      "Enter numbers separated by comma\n",
      "56,23,10,30\n",
      "['56', '23', '10', '30']\n"
     ]
    }
   ],
   "source": [
    "#print an input list of numbers separated by commas\n",
    "print(\"Enter numbers separated by comma\")\n",
    "original_list = input()\n",
    "sub_list = []\n",
    "num = \"\"\n",
    "\n",
    "for i in original_list:\n",
    "    if (i != \",\"):\n",
    "        num = num + i;\n",
    "    else:\n",
    "        sub_list.append(num)\n",
    "        num=\"\"\n",
    "#else for for loop to add last number\n",
    "else:\n",
    "    sub_list.append(num)        \n",
    "    \n",
    "print(sub_list) \n"
   ]
  },
  {
   "cell_type": "code",
   "execution_count": null,
   "metadata": {
    "scrolled": true
   },
   "outputs": [],
   "source": []
  },
  {
   "cell_type": "code",
   "execution_count": null,
   "metadata": {
    "scrolled": true
   },
   "outputs": [],
   "source": []
  }
 ],
 "metadata": {
  "kernelspec": {
   "display_name": "Python 3",
   "language": "python",
   "name": "python3"
  },
  "language_info": {
   "codemirror_mode": {
    "name": "ipython",
    "version": 3
   },
   "file_extension": ".py",
   "mimetype": "text/x-python",
   "name": "python",
   "nbconvert_exporter": "python",
   "pygments_lexer": "ipython3",
   "version": "3.7.6"
  }
 },
 "nbformat": 4,
 "nbformat_minor": 4
}
