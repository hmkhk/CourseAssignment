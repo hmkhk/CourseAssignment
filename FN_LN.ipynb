{
 "cells": [
  {
   "cell_type": "code",
   "execution_count": 3,
   "metadata": {},
   "outputs": [
    {
     "name": "stdout",
     "output_type": "stream",
     "text": [
      "Enter your First name :Jack\n",
      "Enter your Last name :Sparrow\n",
      "Sparrow Jack\n",
      "kcaJ worrapS\n"
     ]
    }
   ],
   "source": [
    "#Read and print Frst and last name in reverse order.. reverse of what ==> last  first  or tsrif tsal \n",
    "first_name = input(\"Enter your First name :\")\n",
    "last_name= input(\"Enter your Last name :\")\n",
    "\n",
    "#string displayed in reverse order\n",
    "print(last_name + \" \" + first_name)\n",
    "\n",
    "#each string reversed individually\n",
    "print(first_name[::-1] + \" \" + last_name[::-1])\n",
    "\n"
   ]
  },
  {
   "cell_type": "code",
   "execution_count": null,
   "metadata": {},
   "outputs": [],
   "source": []
  },
  {
   "cell_type": "code",
   "execution_count": null,
   "metadata": {},
   "outputs": [],
   "source": []
  }
 ],
 "metadata": {
  "kernelspec": {
   "display_name": "Python 3",
   "language": "python",
   "name": "python3"
  },
  "language_info": {
   "codemirror_mode": {
    "name": "ipython",
    "version": 3
   },
   "file_extension": ".py",
   "mimetype": "text/x-python",
   "name": "python",
   "nbconvert_exporter": "python",
   "pygments_lexer": "ipython3",
   "version": "3.7.6"
  }
 },
 "nbformat": 4,
 "nbformat_minor": 4
}
